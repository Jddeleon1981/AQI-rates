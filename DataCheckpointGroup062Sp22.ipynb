{
 "cells": [
  {
   "cell_type": "markdown",
   "metadata": {},
   "source": [
    "# COGS 108 - Data Checkpoint"
   ]
  },
  {
   "cell_type": "markdown",
   "metadata": {},
   "source": [
    "# Names\n",
    "\n",
    "- Nadia Corral\n",
    "- Jose Deleon\n",
    "- Christina Tyagi"
   ]
  },
  {
   "cell_type": "markdown",
   "metadata": {},
   "source": [
    "<a id='research_question'></a>\n",
    "# Research Question"
   ]
  },
  {
   "cell_type": "markdown",
   "metadata": {},
   "source": [
    "*How did changes in the Air Quality Index from 2014 to 2018 effect the amount of respiratory diseases in the Central Valley?*"
   ]
  },
  {
   "cell_type": "markdown",
   "metadata": {},
   "source": [
    "# Dataset(s)"
   ]
  },
  {
   "cell_type": "markdown",
   "metadata": {},
   "source": [
    "- Dataset Name: Daily AQI\n",
    "- Link to the dataset: https://aqs.epa.gov/aqsweb/airdata/download_files.html#AQI\n",
    "- Number of observations: 34675\n",
    "\n",
    "Each data set provides the daily AQI measurement for every county in CA over the  duration of one year. We are going to combine the datasets in order to get the daily AQI measurements from 2014 to 2018 for cities in the following counties: Butte, Colusa, Glenn, Fresno, Kern, Kings, Madera, Merced, Placer, San Joaquin, Sacramento, Shasta, Solano, Stanislaus, Sutter, Tehama, Tulare, Yolo and Yuba. \n",
    "\n",
    "- Dataset Name: Primary Care Shortage Areas\n",
    "- Link to the dataset: https://data.ca.gov/dataset/primary-care-shortage-areas-in-california1/resource/82c9007f-1db4-4e80-83ac-8a40232363e2 \n",
    "- Number of observations: 542\n",
    "\n",
    "The data set provides information about the population in regards to poverty rate and the number of physicians in each city to determine if the population lacks access to primary healthcare. They then consider the population-to-physician ratio and population in poverty in order to assign a provider ratio score, a poverty score, and a total score. The total score is used to determine which cities are Primary Care Shortage Areas (PCSAs). We are going to collect the determinations of total scores and PCSAs for cities and average them by county for the following counties: Butte, Colusa, Glenn, Fresno, Kern, Kings, Madera, Merced, Placer, San Joaquin, Sacramento, Shasta, Solano, Stanislaus, Sutter, Tehama, Tulare, Yolo and Yuba.\n",
    "\n",
    "- Dataset Name: Incidence Rate Report for California by County; Lung and Bronchus (All Stages^), 2014-2018\n",
    "- Link to the dataset: https://gis.cdc.gov/Cancer/USCS/#/StateCounty/\n",
    "- Number of observations: 19\n",
    "\n",
    "The data set provides the rate of new lung and bronchus cancers from 2014-2018 for every county in CA. We are going to collect the rate of new lung and and bronchus cancers for the following counties: Butte, Colusa, Glenn, Fresno, Kern, Kings, Madera, Merced, Placer, San Joaquin, Sacramento, Shasta, Solano, Stanislaus, Sutter, Tehama, Tulare, Yolo and Yuba.\n",
    "\n",
    "- Dataset Name: 2014-2020 Final Deaths by Year by County\n",
    "- Link to the dataset: https://data.chhs.ca.gov/dataset/death-profiles-by-county/resource/579cc04a-52d6-4c4c-b2df-ad901c9049b7\n",
    "- Number of observations: 1425\n",
    "\n",
    "The data set provides the amount of deaths per year due to respiratory disease for every county in CA. We are going to collect the amount of deaths caused by respiratory disease from 2014 to 2018 for the following counties: Butte, Colusa, Glenn, Fresno, Kern, Kings, Madera, Merced, Placer, San Joaquin, Sacramento, Shasta, Solano, Stanislaus, Sutter, Tehama, Tulare, Yolo and Yuba.\n"
   ]
  },
  {
   "cell_type": "markdown",
   "metadata": {},
   "source": [
    "# Setup"
   ]
  },
  {
   "cell_type": "code",
   "execution_count": null,
   "metadata": {},
   "outputs": [],
   "source": [
    "import pandas as pd\n",
    "import numpy as np"
   ]
  },
  {
   "cell_type": "markdown",
   "metadata": {},
   "source": [
    "# Data Cleaning: Primary Care Shortage Areas"
   ]
  },
  {
   "cell_type": "code",
   "execution_count": null,
   "metadata": {},
   "outputs": [],
   "source": [
    "#load primary care shortage areas csv\n",
    "pcsa = pd.read_csv('https://data.chhs.ca.gov/dataset/061494a3-e8c7-4615-a22f-b2851d44eb09/resource/0ba7c904-2302-400a-ba27-b8e8e5c1ab4a/download/pcsa.csv')\n",
    "pcsa.head()"
   ]
  },
  {
   "cell_type": "code",
   "execution_count": null,
   "metadata": {},
   "outputs": [],
   "source": [
    "#filter out the counties to only get counties in the central valley\n",
    "pcsa_sub = pcsa.loc[(pcsa['MSSA_COUNTY'] == 'Butte') | (pcsa['MSSA_COUNTY'] == 'Colusa') | (pcsa['MSSA_COUNTY'] == 'Glenn') | \n",
    "(pcsa['MSSA_COUNTY'] == 'Fresno') | (pcsa['MSSA_COUNTY'] == 'Kern') | \n",
    "(pcsa['MSSA_COUNTY'] == 'Kings') | (pcsa['MSSA_COUNTY'] == 'Madera') | \n",
    "(pcsa['MSSA_COUNTY'] == 'Merced') | (pcsa['MSSA_COUNTY'] == 'Placer') | \n",
    "(pcsa['MSSA_COUNTY'] == 'San Joaquin') | (pcsa['MSSA_COUNTY'] == 'Sacramento') | \n",
    "(pcsa['MSSA_COUNTY'] == 'Shasta') | (pcsa['MSSA_COUNTY'] == 'Solano') | \n",
    "(pcsa['MSSA_COUNTY'] == 'Stanislaus') | (pcsa['MSSA_COUNTY'] == 'Sutter') | \n",
    "(pcsa['MSSA_COUNTY'] == 'Tehama') | (pcsa['MSSA_COUNTY'] == 'Tulare') | \n",
    "(pcsa['MSSA_COUNTY'] == 'Yolo') | (pcsa['MSSA_COUNTY'] == 'Yuba')\n",
    "]\n",
    "pcsa_sub"
   ]
  },
  {
   "cell_type": "code",
   "execution_count": null,
   "metadata": {},
   "outputs": [],
   "source": [
    "# only keep columns for county, total score and PCSA\n",
    "pcsa_sub = pcsa_sub[['MSSA_COUNTY', 'Score_Total', 'PCSA']]\n",
    "\n",
    "# rename county column\n",
    "pcsa_sub.columns = ['County', 'Score_Total', 'PCSA']\n",
    "\n",
    "# replace Yes and No PCSA values with binary values\n",
    "def replace_with_number(value):\n",
    "   \n",
    "    value = value.replace(\"No\", 0)\n",
    "    value = value.replace(\"Yes\", 1)\n",
    "    \n",
    "    return value\n",
    "pcsa_sub = pcsa_sub.apply(replace_with_number)\n",
    "\n",
    "# see reduced dataset\n",
    "pcsa_sub\n",
    "pcsa_sub.shape"
   ]
  },
  {
   "cell_type": "code",
   "execution_count": null,
   "metadata": {},
   "outputs": [],
   "source": [
    "# get average score total and number of PCSA cities/areas within the county \n",
    "list_counties = pcsa_sub.County.unique()\n",
    "pcsa_county = pd.DataFrame(\n",
    "                   columns=['County', 'Score_Total', 'PCSAs_Total'])\n",
    "for county in list_counties:\n",
    "    # add total scores for each county\n",
    "    ind_score_total = pcsa_sub.loc[(pcsa_sub['County'] == county)]['Score_Total'].sum()\n",
    "    # add number of PCSA cites/areas\n",
    "    pcsa_total = pcsa_sub.loc[(pcsa_sub['County'] == county)]['PCSA'].sum()\n",
    "\n",
    "    pcsa_county = pcsa_county.append({'County': county, 'Score_Total': ind_score_total, 'PCSAs_Total': pcsa_total}, ignore_index=True)"
   ]
  },
  {
   "cell_type": "code",
   "execution_count": null,
   "metadata": {},
   "outputs": [],
   "source": [
    "# final clean data set\n",
    "pcsa_county"
   ]
  },
  {
   "cell_type": "markdown",
   "metadata": {},
   "source": [
    "# Data Cleaning: Incidence Rate Report for California by County; Lung and Bronchus (All Stages^), 2014-2018"
   ]
  },
  {
   "cell_type": "code",
   "execution_count": null,
   "metadata": {},
   "outputs": [],
   "source": [
    "#load lung cancer csv\n",
    "cancer = pd.read_csv('https://raw.githubusercontent.com/cgtyagi/Group062data/main/LungCancer-Sheet%201-Table%201-1.csv')\n",
    "cancer.head()"
   ]
  },
  {
   "cell_type": "code",
   "execution_count": null,
   "metadata": {},
   "outputs": [],
   "source": [
    "#rename the inputs in the area column to just get the county name \n",
    "def standardize_county(str_county):\n",
    "    try: \n",
    "        str_county = str_county.strip()\n",
    "        \n",
    "        if 'California' in str_county:\n",
    "            str_county = str_county.replace('County, California', '')\n",
    "            output = str_county \n",
    "        else: \n",
    "            output = np.nan\n",
    "    except:\n",
    "        output = np.nan\n",
    "\n",
    "    return output"
   ]
  },
  {
   "cell_type": "code",
   "execution_count": null,
   "metadata": {},
   "outputs": [],
   "source": [
    "cancer['Area'] = cancer['Area'].apply(standardize_county)"
   ]
  },
  {
   "cell_type": "code",
   "execution_count": null,
   "metadata": {},
   "outputs": [],
   "source": [
    "cancer['Area'].unique"
   ]
  },
  {
   "cell_type": "code",
   "execution_count": null,
   "metadata": {},
   "outputs": [],
   "source": [
    "#filter out the counties to only get counties in the central valley\n",
    "cancer_sub = cancer.loc[(cancer['Area'] == 'Butte ') | (cancer['Area'] == 'Colusa ') | (cancer['Area'] == 'Glenn ') | \n",
    "(cancer['Area'] == 'Fresno ') | (cancer['Area'] == 'Kern ') | \n",
    "(cancer['Area'] == 'Kings ') | (cancer['Area'] == 'Madera ') | \n",
    "(cancer['Area'] == 'Merced ') | (cancer['Area'] == 'Placer ') | \n",
    "(cancer['Area'] == 'San Joaquin ') | (cancer['Area'] == 'Sacramento ') | \n",
    "(cancer['Area'] == 'Shasta ') | (cancer['Area'] == 'Solano ') | \n",
    "(cancer['Area'] == 'Stanislaus ') | (cancer['Area'] == 'Sutter ') | \n",
    "(cancer['Area'] == 'Tehama ') | (cancer['Area'] == 'Tulare ') | \n",
    "(cancer['Area'] == 'Yolo ') | (cancer['Area'] == 'Yuba ')\n",
    "]\n",
    "cancer_sub"
   ]
  },
  {
   "cell_type": "code",
   "execution_count": null,
   "metadata": {},
   "outputs": [],
   "source": [
    "#load deaths csv\n",
    "deaths = pd.read_csv('https://raw.githubusercontent.com/cgtyagi/Group062data/main/2021-11-29_deaths_final_2014_2020_county_year_sup.csv')\n",
    "deaths.head()"
   ]
  },
  {
   "cell_type": "code",
   "execution_count": null,
   "metadata": {},
   "outputs": [],
   "source": [
    "#get understanding of shape\n",
    "deaths.shape"
   ]
  },
  {
   "cell_type": "code",
   "execution_count": null,
   "metadata": {},
   "outputs": [],
   "source": [
    "#filter from years 2014-2018\n",
    "deaths_sub = deaths.loc[(deaths['Year'] == 2014) | (deaths['Year'] == 2015) | (deaths['Year'] == 2016) | (deaths['Year'] == 2017) | (deaths['Year'] == 2018)]\n",
    "deaths_sub.head()"
   ]
  },
  {
   "cell_type": "markdown",
   "metadata": {},
   "source": [
    "# Data Cleaning: 2014-2020 Final Deaths by Year by County"
   ]
  },
  {
   "cell_type": "code",
   "execution_count": null,
   "metadata": {},
   "outputs": [],
   "source": [
    "#checknewshape\n",
    "deaths_sub.shape"
   ]
  },
  {
   "cell_type": "code",
   "execution_count": null,
   "metadata": {},
   "outputs": [],
   "source": [
    "#filter by cause of death (chronic lower respiratory diseases)\n",
    "deaths_by_respiratory = deaths_sub.loc[(deaths_sub['Cause'] == 'CLD')]\n",
    "deaths_by_respiratory.head()"
   ]
  },
  {
   "cell_type": "code",
   "execution_count": null,
   "metadata": {},
   "outputs": [],
   "source": [
    "#filter by relevant counties\n",
    "deaths_by_respiratory_per_county = deaths_by_respiratory[(deaths_by_respiratory['County'] == 'Butte') | (deaths_by_respiratory['County'] == 'Colusa') | (deaths_by_respiratory['County'] == 'Glenn') | \n",
    "(deaths_by_respiratory['County'] == 'Fresno') | (deaths_by_respiratory['County'] == 'Kern') | \n",
    "(deaths_by_respiratory['County'] == 'Kings') | (deaths_by_respiratory['County'] == 'Madera') | \n",
    "(deaths_by_respiratory['County'] == 'Merced') | (deaths_by_respiratory['County'] == 'Placer') | \n",
    "(deaths_by_respiratory['County'] == 'San Joaquin') | (deaths_by_respiratory['County'] == 'Sacramento') | \n",
    "(deaths_by_respiratory['County'] == 'Shasta') | (deaths_by_respiratory['County'] == 'Solano') | \n",
    "(deaths_by_respiratory['County'] == 'Stanislaus') | (deaths_by_respiratory['County'] == 'Sutter') | \n",
    "(deaths_by_respiratory['County'] == 'Tehama') | (deaths_by_respiratory['County'] == 'Tulare') | \n",
    "(deaths_by_respiratory['County'] == 'Yolo') | (deaths_by_respiratory['County'] == 'Yuba')]\n",
    "\n",
    "deaths_by_respiratory_per_county.head()"
   ]
  },
  {
   "cell_type": "code",
   "execution_count": null,
   "metadata": {},
   "outputs": [],
   "source": [
    "#take NaNs in count out of filtered data\n",
    "deaths_by_respiratory_per_county_clean = deaths_by_respiratory_per_county.dropna(subset = [\"Count\"]) \n",
    "deaths_by_respiratory_per_county_clean.head()"
   ]
  },
  {
   "cell_type": "markdown",
   "metadata": {},
   "source": [
    "# Data Cleaning: AQI Data for 2014-2018"
   ]
  },
  {
   "cell_type": "code",
   "execution_count": null,
   "metadata": {},
   "outputs": [],
   "source": [
    "\"\"\"\n",
    "Unfortunately this step took a little longer than expected because the individual datasets were so large that the jupyter notebooks \n",
    "were not able to properly load them and that was just for one year. This led to us having to manually clean the data a little bit \n",
    "within excel. Thankfully once we filtered down to California and the counties within the Central Valley this data became much easier \n",
    "to work with.\n",
    "\"\"\"\n",
    "aqi_2014 = pd.read_csv(\"AQI data/aqi_2014_final.csv\")\n",
    "aqi_2015 = pd.read_csv(\"AQI data/aqi_2015_final.csv\")\n",
    "aqi_2016 = pd.read_csv(\"AQI data/aqi_2016_final.csv\")\n",
    "aqi_2017 = pd.read_csv(\"AQI data/aqi_2017_final.csv\")\n",
    "aqi_2018 = pd.read_csv(\"AQI data/aqi_2018_final.csv\")\n",
    "aqiTotal = pd.concat([aqi_2014, aqi_2015, aqi_2016, aqi_2017, aqi_2018], axis=0)\n",
    "aqiTotal = aqiTotal.rename(columns = {\"county Name\":\"County\", \"State Name\":\"State\"})\n",
    "aqiTotal.head()"
   ]
  },
  {
   "cell_type": "code",
   "execution_count": null,
   "metadata": {},
   "outputs": [],
   "source": [
    "#Filters down to only the counties we are interested in \n",
    "aqiTotal = aqiTotal[(aqiTotal['County'] == 'Butte') | (aqiTotal['County'] == 'Colusa') | (aqiTotal['County'] == 'Glenn') | \n",
    "(aqiTotal['County'] == 'Fresno') | (aqiTotal['County'] == 'Kern') | \n",
    "(aqiTotal['County'] == 'Kings') | (aqiTotal['County'] == 'Madera') | \n",
    "(aqiTotal['County'] == 'Merced') | (aqiTotal['County'] == 'Placer') | \n",
    "(aqiTotal['County'] == 'San Joaquin') | (aqiTotal['County'] == 'Sacramento') | \n",
    "(aqiTotal['County'] == 'Shasta') | (aqiTotal['County'] == 'Solano') | \n",
    "(aqiTotal['County'] == 'Stanislaus') | (aqiTotal['County'] == 'Sutter') | \n",
    "(aqiTotal['County'] == 'Tehama') | (aqiTotal['County'] == 'Tulare') | \n",
    "(aqiTotal['County'] == 'Yolo') | (aqiTotal['County'] == 'Yuba')]"
   ]
  },
  {
   "cell_type": "code",
   "execution_count": null,
   "metadata": {},
   "outputs": [],
   "source": [
    "#Gets rid of any potential Nan values\n",
    "aqiTotal = aqiTotal.dropna(subset = [\"AQI\"]) \n",
    "aqiTotal.head()"
   ]
  },
  {
   "cell_type": "code",
   "execution_count": null,
   "metadata": {},
   "outputs": [],
   "source": [
    "#We sort by county and date\n",
    "aqiTotal = aqiTotal[[\"State\", \"County\", \"Date\", \"AQI\", \"Category\", \"Defining Parameter\"]]\n",
    "aqiTotal['Date'] = pd.to_datetime(aqiTotal['Date'])\n",
    "aqiTotal = aqiTotal.sort_values(by=['County', \"Date\"])\n",
    "aqiTotal.head()\n"
   ]
  }
 ],
 "metadata": {
  "interpreter": {
   "hash": "bbffe59bbd1f9dbb014dc520ac007267f229aa2fabe5c95ef6fcf6bdd8a7f155"
  },
  "kernelspec": {
   "display_name": "Python 3.9.7 ('base')",
   "language": "python",
   "name": "python3"
  },
  "language_info": {
   "codemirror_mode": {
    "name": "ipython",
    "version": 3
   },
   "file_extension": ".py",
   "mimetype": "text/x-python",
   "name": "python",
   "nbconvert_exporter": "python",
   "pygments_lexer": "ipython3"
  }
 },
 "nbformat": 4,
 "nbformat_minor": 2
}
