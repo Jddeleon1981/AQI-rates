{
 "cells": [
  {
   "cell_type": "markdown",
   "metadata": {},
   "source": [
    "# COGS 108 - Data Checkpoint"
   ]
  },
  {
   "cell_type": "markdown",
   "metadata": {},
   "source": [
    "# Names\n",
    "\n",
    "- Nadia Corral\n",
    "- Jose Deleon\n",
    "- Christina Tyagi"
   ]
  },
  {
   "cell_type": "markdown",
   "metadata": {},
   "source": [
    "<a id='research_question'></a>\n",
    "# Research Question"
   ]
  },
  {
   "cell_type": "markdown",
   "metadata": {},
   "source": [
    "*How did changing ozone pollution rates from 2014 to 2018 effect the amount of respiratory diseases in the Central Valley?*"
   ]
  },
  {
   "cell_type": "markdown",
   "metadata": {},
   "source": [
    "# Dataset(s)"
   ]
  },
  {
   "cell_type": "markdown",
   "metadata": {},
   "source": [
    "- Dataset Name: Daily Ozone\n",
    "- Link to the dataset: https://aqs.epa.gov/aqsweb/airdata/download_files.html#AQI\n",
    "- Number of observations: 34675\n",
    "\n",
    "Each data set provides the daily ozone measurement for many cities in the US over the duration of one year. We are going to combine the datasets in order to get the daily ozone measurements from 2014 to 2018 for cities in the following counties: Butte, Colusa, Glenn, Fresno, Kern, Kings, Madera, Merced, Placer, San Joaquin, Sacramento, Shasta, Solano, Stanislaus, Sutter, Tehama, Tulare, Yolo and Yuba. \n",
    "\n",
    "- Dataset Name: Incidence Rate Report for California by County; Lung and Bronchus (All Stages^), 2014-2018\n",
    "- Link to the dataset: https://gis.cdc.gov/Cancer/USCS/#/StateCounty/\n",
    "- Number of observations: 19\n",
    "\n",
    "The data set provides the rate of new lung and bronchus cancers from 2014-2018 for every county in CA. We are going to collect the rate of new lung and and bronchus cancers for the following counties: Butte, Colusa, Glenn, Fresno, Kern, Kings, Madera, Merced, Placer, San Joaquin, Sacramento, Shasta, Solano, Stanislaus, Sutter, Tehama, Tulare, Yolo and Yuba.\n",
    "\n",
    "- Dataset Name: Emergency department visits due to asthma, Both sexes, All Ages, All Races/Ethnicities, Conventional, Age-adjusted rates per 10,000 Counties\n",
    "- Link to the dataset: https://trackingcalifornia.org/asthma/query\n",
    "- Number of observations: 95\n",
    "\n",
    "The data set provides the amount of emergency visits per year due to asthma for every county in CA. We are going to collect the amount of emergency visits due to asthma from 2014 to 2018 for the following counties: Butte, Colusa, Glenn, Fresno, Kern, Kings, Madera, Merced, Placer, San Joaquin, Sacramento, Shasta, Solano, Stanislaus, Sutter, Tehama, Tulare, Yolo and Yuba.\n"
   ]
  },
  {
   "cell_type": "markdown",
   "metadata": {},
   "source": [
    "# Setup"
   ]
  },
  {
   "cell_type": "code",
   "execution_count": 2,
   "metadata": {},
   "outputs": [],
   "source": [
    "import pandas as pd\n",
    "import numpy as np"
   ]
  },
  {
   "cell_type": "markdown",
   "metadata": {},
   "source": [
    "# Data Cleaning"
   ]
  },
  {
   "cell_type": "markdown",
   "metadata": {},
   "source": [
    "Describe your data cleaning steps here."
   ]
  },
  {
   "cell_type": "code",
   "execution_count": 24,
   "metadata": {},
   "outputs": [
    {
     "data": {
      "text/html": [
       "<div>\n",
       "<style scoped>\n",
       "    .dataframe tbody tr th:only-of-type {\n",
       "        vertical-align: middle;\n",
       "    }\n",
       "\n",
       "    .dataframe tbody tr th {\n",
       "        vertical-align: top;\n",
       "    }\n",
       "\n",
       "    .dataframe thead th {\n",
       "        text-align: right;\n",
       "    }\n",
       "</style>\n",
       "<table border=\"1\" class=\"dataframe\">\n",
       "  <thead>\n",
       "    <tr style=\"text-align: right;\">\n",
       "      <th></th>\n",
       "      <th>Area</th>\n",
       "      <th>Age-Adjusted Rate</th>\n",
       "      <th>Case Count</th>\n",
       "      <th>Population</th>\n",
       "    </tr>\n",
       "  </thead>\n",
       "  <tbody>\n",
       "    <tr>\n",
       "      <th>0</th>\n",
       "      <td>Alameda County, California</td>\n",
       "      <td>39.2</td>\n",
       "      <td>3,399</td>\n",
       "      <td>8,220,232</td>\n",
       "    </tr>\n",
       "    <tr>\n",
       "      <th>1</th>\n",
       "      <td>Alpine County, California</td>\n",
       "      <td>Data Suppressed</td>\n",
       "      <td>Data Suppressed</td>\n",
       "      <td>Data Suppressed</td>\n",
       "    </tr>\n",
       "    <tr>\n",
       "      <th>2</th>\n",
       "      <td>Amador County, California</td>\n",
       "      <td>56.6</td>\n",
       "      <td>205</td>\n",
       "      <td>189,120</td>\n",
       "    </tr>\n",
       "    <tr>\n",
       "      <th>3</th>\n",
       "      <td>Butte County, California</td>\n",
       "      <td>56.4</td>\n",
       "      <td>864</td>\n",
       "      <td>1,133,413</td>\n",
       "    </tr>\n",
       "    <tr>\n",
       "      <th>4</th>\n",
       "      <td>Calaveras County, California</td>\n",
       "      <td>45.8</td>\n",
       "      <td>202</td>\n",
       "      <td>226,337</td>\n",
       "    </tr>\n",
       "  </tbody>\n",
       "</table>\n",
       "</div>"
      ],
      "text/plain": [
       "                           Area Age-Adjusted Rate       Case Count  \\\n",
       "0    Alameda County, California              39.2            3,399   \n",
       "1     Alpine County, California   Data Suppressed  Data Suppressed   \n",
       "2     Amador County, California              56.6              205   \n",
       "3      Butte County, California              56.4              864   \n",
       "4  Calaveras County, California              45.8              202   \n",
       "\n",
       "        Population  \n",
       "0        8,220,232  \n",
       "1  Data Suppressed  \n",
       "2          189,120  \n",
       "3        1,133,413  \n",
       "4          226,337  "
      ]
     },
     "execution_count": 24,
     "metadata": {},
     "output_type": "execute_result"
    }
   ],
   "source": [
    "cancer = pd.read_csv('https://raw.githubusercontent.com/cgtyagi/Group062data/main/LungCancer-Sheet%201-Table%201-1.csv')\n",
    "cancer.head()"
   ]
  },
  {
   "cell_type": "code",
   "execution_count": 25,
   "metadata": {},
   "outputs": [],
   "source": [
    "def standardize_county(str_county):\n",
    "    try: \n",
    "        str_county = str_county.strip()\n",
    "        \n",
    "        if 'California' in str_county:\n",
    "            str_county = str_county.replace(', California', '')\n",
    "            output = str_county \n",
    "        else: \n",
    "            output = np.nan\n",
    "    except:\n",
    "        output = np.nan\n",
    "\n",
    "    return output"
   ]
  },
  {
   "cell_type": "code",
   "execution_count": 26,
   "metadata": {},
   "outputs": [],
   "source": [
    "cancer['Area'] = cancer['Area'].apply(standardize_county)"
   ]
  },
  {
   "cell_type": "code",
   "execution_count": 27,
   "metadata": {},
   "outputs": [
    {
     "data": {
      "text/plain": [
       "<bound method Series.unique of 0             Alameda County\n",
       "1              Alpine County\n",
       "2              Amador County\n",
       "3               Butte County\n",
       "4           Calaveras County\n",
       "5              Colusa County\n",
       "6        Contra Costa County\n",
       "7           Del Norte County\n",
       "8           El Dorado County\n",
       "9              Fresno County\n",
       "10              Glenn County\n",
       "11           Humboldt County\n",
       "12           Imperial County\n",
       "13               Inyo County\n",
       "14               Kern County\n",
       "15              Kings County\n",
       "16               Lake County\n",
       "17             Lassen County\n",
       "18        Los Angeles County\n",
       "19             Madera County\n",
       "20              Marin County\n",
       "21           Mariposa County\n",
       "22          Mendocino County\n",
       "23             Merced County\n",
       "24              Modoc County\n",
       "25               Mono County\n",
       "26           Monterey County\n",
       "27               Napa County\n",
       "28             Nevada County\n",
       "29             Orange County\n",
       "30             Placer County\n",
       "31             Plumas County\n",
       "32          Riverside County\n",
       "33         Sacramento County\n",
       "34         San Benito County\n",
       "35     San Bernardino County\n",
       "36          San Diego County\n",
       "37      San Francisco County\n",
       "38        San Joaquin County\n",
       "39    San Luis Obispo County\n",
       "40          San Mateo County\n",
       "41      Santa Barbara County\n",
       "42        Santa Clara County\n",
       "43         Santa Cruz County\n",
       "44             Shasta County\n",
       "45             Sierra County\n",
       "46           Siskiyou County\n",
       "47             Solano County\n",
       "48             Sonoma County\n",
       "49         Stanislaus County\n",
       "50             Sutter County\n",
       "51             Tehama County\n",
       "52            Trinity County\n",
       "53             Tulare County\n",
       "54           Tuolumne County\n",
       "55            Ventura County\n",
       "56               Yolo County\n",
       "57               Yuba County\n",
       "Name: Area, dtype: object>"
      ]
     },
     "execution_count": 27,
     "metadata": {},
     "output_type": "execute_result"
    }
   ],
   "source": [
    "cancer['Area'].unique"
   ]
  }
 ],
 "metadata": {
  "interpreter": {
   "hash": "88c275587ad448e1c60d1153bf23df4eebe93b9f82244fcca0aeadcf04ec8e2f"
  },
  "kernelspec": {
   "display_name": "Python 3.9.7 ('base')",
   "language": "python",
   "name": "python3"
  },
  "language_info": {
   "codemirror_mode": {
    "name": "ipython",
    "version": 3
   },
   "file_extension": ".py",
   "mimetype": "text/x-python",
   "name": "python",
   "nbconvert_exporter": "python",
   "pygments_lexer": "ipython3",
   "version": "3.9.7"
  }
 },
 "nbformat": 4,
 "nbformat_minor": 2
}
