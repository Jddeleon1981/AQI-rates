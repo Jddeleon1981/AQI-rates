{
 "cells": [
  {
   "cell_type": "markdown",
   "metadata": {},
   "source": [
    "# COGS 108 - Data Checkpoint"
   ]
  },
  {
   "cell_type": "markdown",
   "metadata": {},
   "source": [
    "# Names\n",
    "\n",
    "- Nadia Corral\n",
    "- Jose Deleon\n",
    "- Christina Tyagi"
   ]
  },
  {
   "cell_type": "markdown",
   "metadata": {},
   "source": [
    "<a id='research_question'></a>\n",
    "# Research Question"
   ]
  },
  {
   "cell_type": "markdown",
   "metadata": {},
   "source": [
    "*How did changing ozone pollution rates from 2014 to 2018 effect the amount of respiratory diseases in the Central Valley?*"
   ]
  },
  {
   "cell_type": "markdown",
   "metadata": {},
   "source": [
    "# Dataset(s)"
   ]
  },
  {
   "cell_type": "markdown",
   "metadata": {},
   "source": [
    "- Dataset Name: Daily Ozone\n",
    "- Link to the dataset: https://aqs.epa.gov/aqsweb/airdata/download_files.html#AQI\n",
    "- Number of observations: 34675\n",
    "\n",
    "Each data set provides the daily ozone measurement for many cities in the US over the duration of one year. We are going to combine the datasets in order to get the daily ozone measurements from 2014 to 2018 for cities in the following counties: Butte, Colusa, Glenn, Fresno, Kern, Kings, Madera, Merced, Placer, San Joaquin, Sacramento, Shasta, Solano, Stanislaus, Sutter, Tehama, Tulare, Yolo and Yuba. \n",
    "\n",
    "- Dataset Name: Incidence Rate Report for California by County; Lung and Bronchus (All Stages^), 2014-2018\n",
    "- Link to the dataset: https://gis.cdc.gov/Cancer/USCS/#/StateCounty/\n",
    "- Number of observations: 19\n",
    "\n",
    "The data set provides the rate of new lung and bronchus cancers from 2014-2018 for every county in CA. We are going to collect the rate of new lung and and bronchus cancers for the following counties: Butte, Colusa, Glenn, Fresno, Kern, Kings, Madera, Merced, Placer, San Joaquin, Sacramento, Shasta, Solano, Stanislaus, Sutter, Tehama, Tulare, Yolo and Yuba.\n",
    "\n",
    "- Dataset Name: Emergency department visits due to asthma, Both sexes, All Ages, All Races/Ethnicities, Conventional, Age-adjusted rates per 10,000 Counties\n",
    "- Link to the dataset: https://trackingcalifornia.org/asthma/query\n",
    "- Number of observations: 95\n",
    "\n",
    "The data set provides the amount of emergency visits per year due to asthma for every county in CA. We are going to collect the amount of emergency visits due to asthma from 2014 to 2018 for the following counties: Butte, Colusa, Glenn, Fresno, Kern, Kings, Madera, Merced, Placer, San Joaquin, Sacramento, Shasta, Solano, Stanislaus, Sutter, Tehama, Tulare, Yolo and Yuba.\n"
   ]
  },
  {
   "cell_type": "markdown",
   "metadata": {},
   "source": [
    "# Setup"
   ]
  },
  {
   "cell_type": "code",
   "execution_count": 1,
   "metadata": {},
   "outputs": [],
   "source": [
    "import pandas as pd\n",
    "import numpy as np"
   ]
  },
  {
   "cell_type": "markdown",
   "metadata": {},
   "source": [
    "# Data Cleaning"
   ]
  },
  {
   "cell_type": "markdown",
   "metadata": {},
   "source": [
    "Describe your data cleaning steps here."
   ]
  },
  {
   "cell_type": "code",
   "execution_count": 4,
   "metadata": {},
   "outputs": [
    {
     "data": {
      "text/html": [
       "<div>\n",
       "<style scoped>\n",
       "    .dataframe tbody tr th:only-of-type {\n",
       "        vertical-align: middle;\n",
       "    }\n",
       "\n",
       "    .dataframe tbody tr th {\n",
       "        vertical-align: top;\n",
       "    }\n",
       "\n",
       "    .dataframe thead th {\n",
       "        text-align: right;\n",
       "    }\n",
       "</style>\n",
       "<table border=\"1\" class=\"dataframe\">\n",
       "  <thead>\n",
       "    <tr style=\"text-align: right;\">\n",
       "      <th></th>\n",
       "      <th>Area</th>\n",
       "      <th>County</th>\n",
       "      <th>Cancer Type</th>\n",
       "      <th>Year</th>\n",
       "      <th>Sex</th>\n",
       "      <th>Age-Adjusted Rate</th>\n",
       "      <th>Case Count</th>\n",
       "      <th>Population</th>\n",
       "    </tr>\n",
       "  </thead>\n",
       "  <tbody>\n",
       "    <tr>\n",
       "      <th>0</th>\n",
       "      <td>California</td>\n",
       "      <td>Mono County</td>\n",
       "      <td>All Types of Cancer</td>\n",
       "      <td>2014-2018</td>\n",
       "      <td>Male and Female</td>\n",
       "      <td>291.3</td>\n",
       "      <td>256</td>\n",
       "      <td>71241</td>\n",
       "    </tr>\n",
       "    <tr>\n",
       "      <th>1</th>\n",
       "      <td>California</td>\n",
       "      <td>Sierra County</td>\n",
       "      <td>All Types of Cancer</td>\n",
       "      <td>2014-2018</td>\n",
       "      <td>Male and Female</td>\n",
       "      <td>319.9</td>\n",
       "      <td>84</td>\n",
       "      <td>14907</td>\n",
       "    </tr>\n",
       "    <tr>\n",
       "      <th>2</th>\n",
       "      <td>California</td>\n",
       "      <td>Siskiyou County</td>\n",
       "      <td>All Types of Cancer</td>\n",
       "      <td>2014-2018</td>\n",
       "      <td>Male and Female</td>\n",
       "      <td>354.5</td>\n",
       "      <td>1251</td>\n",
       "      <td>217140</td>\n",
       "    </tr>\n",
       "    <tr>\n",
       "      <th>3</th>\n",
       "      <td>California</td>\n",
       "      <td>Modoc County</td>\n",
       "      <td>All Types of Cancer</td>\n",
       "      <td>2014-2018</td>\n",
       "      <td>Male and Female</td>\n",
       "      <td>357.7</td>\n",
       "      <td>258</td>\n",
       "      <td>44761</td>\n",
       "    </tr>\n",
       "    <tr>\n",
       "      <th>4</th>\n",
       "      <td>California</td>\n",
       "      <td>Tulare County</td>\n",
       "      <td>All Types of Cancer</td>\n",
       "      <td>2014-2018</td>\n",
       "      <td>Male and Female</td>\n",
       "      <td>370.3</td>\n",
       "      <td>7700</td>\n",
       "      <td>2298431</td>\n",
       "    </tr>\n",
       "  </tbody>\n",
       "</table>\n",
       "</div>"
      ],
      "text/plain": [
       "         Area           County          Cancer Type       Year  \\\n",
       "0  California      Mono County  All Types of Cancer  2014-2018   \n",
       "1  California    Sierra County  All Types of Cancer  2014-2018   \n",
       "2  California  Siskiyou County  All Types of Cancer  2014-2018   \n",
       "3  California     Modoc County  All Types of Cancer  2014-2018   \n",
       "4  California    Tulare County  All Types of Cancer  2014-2018   \n",
       "\n",
       "               Sex  Age-Adjusted Rate  Case Count  Population  \n",
       "0  Male and Female              291.3         256       71241  \n",
       "1  Male and Female              319.9          84       14907  \n",
       "2  Male and Female              354.5        1251      217140  \n",
       "3  Male and Female              357.7         258       44761  \n",
       "4  Male and Female              370.3        7700     2298431  "
      ]
     },
     "execution_count": 4,
     "metadata": {},
     "output_type": "execute_result"
    }
   ],
   "source": [
    "lung_cancer = pd.read_csv('https://raw.githubusercontent.com/cgtyagi/Group062data/main/CountyMap.csv')\n",
    "lung_cancer.head()"
   ]
  },
  {
   "cell_type": "code",
   "execution_count": null,
   "metadata": {},
   "outputs": [],
   "source": []
  }
 ],
 "metadata": {
  "interpreter": {
   "hash": "88c275587ad448e1c60d1153bf23df4eebe93b9f82244fcca0aeadcf04ec8e2f"
  },
  "kernelspec": {
   "display_name": "Python 3.9.7 ('base')",
   "language": "python",
   "name": "python3"
  },
  "language_info": {
   "codemirror_mode": {
    "name": "ipython",
    "version": 3
   },
   "file_extension": ".py",
   "mimetype": "text/x-python",
   "name": "python",
   "nbconvert_exporter": "python",
   "pygments_lexer": "ipython3",
   "version": "3.9.7"
  }
 },
 "nbformat": 4,
 "nbformat_minor": 2
}
