{
 "cells": [
  {
   "cell_type": "markdown",
   "metadata": {},
   "source": [
    "# COGS 108 - Final Project Proposal"
   ]
  },
  {
   "cell_type": "markdown",
   "metadata": {},
   "source": [
    "# Names\n",
    "\n",
    "- Nadia Corral\n",
    "- Jose Deleon\n",
    "- Christina Tyagi"
   ]
  },
  {
   "cell_type": "markdown",
   "metadata": {},
   "source": [
    "# Research Question"
   ]
  },
  {
   "cell_type": "markdown",
   "metadata": {},
   "source": [
    "*How do changing ozone pollution rates within the last 40 years effect the amount of respiratory diseases in the Central Valley?*"
   ]
  },
  {
   "cell_type": "markdown",
   "metadata": {},
   "source": [
    "## Background and Prior Work"
   ]
  },
  {
   "cell_type": "markdown",
   "metadata": {},
   "source": [
    "\n",
    "\n",
    "\n",
    "The Central Valley of California is known for being an agricultural heartland as well as being  prone to significant ozone pollution. According to the American Lung Association's State of the Air Report, two cities in the Central Valley are ranked amongst the top five most polluted cities in the country. [^ALA] The cause of pollution in the Central Valley can be attributed to its topography that traps air inside the region, in conjunction with its growing population and industry. [^Berg] Despite there having been statewide regulations placed to decrease agricultural emissions in 2004, ozone pollution still remains significant. [^CDFA] \n",
    "\n",
    "The central valley has repeatedly made efforts to combat the rising levels of pollution, but it has been met with less than desirable results. One example was the Spare The Air program which was more focused on the actions of the individual encouraging people to drive less among other things during high ozone days, but this didn’t really tackle the source of the problem. [^4] Also going back to 2007 a new plan known as the Ozone Plan came into existence and by its guidelines places like the central valley would take till 2024 under the Extreme Non-Compliance standard before they reached full ozone compliance. [^4] This led to the creation of the ISSRC in the central valley, so it could be decided if there were any alternatives to the 2024 plan. [^4] This inevitably led to a lot of back and forth between science and politics as different parties believed in different solutions to the ozone problem in the Central Valley. [^4] Thankfully, the Central Valley hasn’t given up so easily with further efforts being made to combat the problem with a new version of The Ozone Plan being introduced in 2022.[^5]\n",
    "\n",
    "Air pollution can be a cause for concern with regards to respiratory health. Increased pollution rates have been found to cause an increase in respiratory symptoms, a decrease in pulmonary function onset of asthma, and increased mortality and hospitalizations. [^6] In a study across Europe, it was also found that living near traffic-heavy roads could potentially increase a person’s risk of lung cancer. [^7] We hope to be able to visualize these effects of air pollution on respiratory health in the counties of the California’s Central Valley.\n",
    "\n",
    "[^ALA]: “Most Polluted Cities: State of the Air.” State of the Air | American Lung Association, 2022, https://www.lung.org/research/sota/city-rankings/most-polluted-cities. \n",
    "[^Berg]: Berg, Nate. “Why Does California's Central Valley Have Such Bad Air Pollution?” Bloomberg.com, Bloomberg, 28 Sept. 2011, https://www.bloomberg.com/news/articles/2011-09-28/why-does-california-s-central-valley-have-such-bad-air-pollution. \n",
    "[^CDFA]: “Air Quality and Agriculture.” California Department of Food and Agriculture, July 2009, https://www.cdfa.ca.gov/agvision/docs/Air_Quality_and_Agriculture.pdf. \n",
    "[^4]: Lighthall, D., and Capitman, J. (2007, December). The Long Road to Clean Air in the San Joaquin Valley: Facing the Challenge of Public Engagement. Fresno, CA: California State University, Fresno. \n",
    "[^5]: “2022 Ozone Plan for Attainment of the 2015 Federal 8-Hour ...” Valley Air, 12 Oct. 2021, https://www.valleyair.org/Workshops/postings/2021/10-12-21_2022-ozone-plan/Presentation.pdf. \n",
    "[^6]: Jiang, Xu-Qin et al. “Air pollution and chronic airway diseases: what should people know and do?.” Journal of thoracic disease vol. 8,1 (2016): E31-40. doi:10.3978/j.issn.2072-1439.2015.11.50, https://www.ncbi.nlm.nih.gov/pmc/articles/PMC4740163/.\n",
    "[^7]: Vineis, Paolo et al. “Air pollution and risk of lung cancer in a prospective study in Europe.” Int. J. Cancer, 119 (2006): 169-174. https://doi.org/10.1002/ijc.21801 \n",
    "\n"
   ]
  },
  {
   "cell_type": "markdown",
   "metadata": {},
   "source": [
    "# Hypothesis\n"
   ]
  },
  {
   "cell_type": "markdown",
   "metadata": {},
   "source": [
    "*We propose that ozone pollution rates will increase in the Central Valley within the 40 year time frame, causing an increase in respiratory diseases. We assume this correlation because climate change research has informed us about increasing pollution rates and their effect on the environment as well as their negative effect on respiratory health.*"
   ]
  },
  {
   "cell_type": "markdown",
   "metadata": {},
   "source": [
    "# Data"
   ]
  },
  {
   "cell_type": "markdown",
   "metadata": {},
   "source": [
    "*Explain what the ideal dataset you would want to answer this question. (This should include: What variables? How many observations? Who/what/how would these data be collected? How would these data be stored/organized?)*\n",
    "* What variables would you have? Our variables would be time, ozone pollution rates, respiratory disease rates.\n",
    "* How would they be stored? They would be stored in a CSV or JSON database.\n",
    "* How many observations would you have? We would have 480 observations.\n",
    "* What/who would the observations be? Over what time period? etc. For each month over 40 years, we will include observations of ozone pollution and respiratory disease rates.\n"
   ]
  },
  {
   "cell_type": "markdown",
   "metadata": {},
   "source": [
    "# Ethics & Privacy"
   ]
  },
  {
   "cell_type": "markdown",
   "metadata": {},
   "source": [
    "We have to make sure the patients with respiratory disease consented to their information being disclosed. We would have to make sure that the dataset we use to account for respiratory disease cases is compliant with HIPAA (Health Insurance Portability and Accountability Act). There may be biases in our data set to only include individuals with respiratory disease that have access to medical care. There might be more cases of respiratory disease in the Central Valley that are not accounted for because they remain undiagnosed. We will ensure that we will only use a dataset for respiratory disease that was collected from a clearly defined population using informed consent.\n"
   ]
  },
  {
   "cell_type": "markdown",
   "metadata": {},
   "source": [
    "# Team Expectations "
   ]
  },
  {
   "cell_type": "markdown",
   "metadata": {},
   "source": [
    "* We will communicate through Discord.\n",
    "* We will inform other members about commits & other project updates/questions promptly.\n",
    "* We will hold and attend weekly meetings on Wednesdays at 4:30pm.\n",
    "* We will communicate concerns and schedule changes so we can plan ahead.\n",
    "* If a team member is not contributing their share of work, we will first contact them individually through Discord, then by email if they don't respond. If the issue cannot be resolved, we will go to the instructional team for help."
   ]
  },
  {
   "cell_type": "markdown",
   "metadata": {},
   "source": [
    "# Project Timeline Proposal"
   ]
  },
  {
   "cell_type": "markdown",
   "metadata": {},
   "source": [
    "| Meeting Date  | Meeting Time| Completed Before Meeting  | Discuss at Meeting |\n",
    "|---|---|---|---|\n",
    "| 4/20  |  4:30 PM | Established our first meeting time (when2meet)  | Determine research question; establish team expectations; scheduling meetings; discuss hypothesis; begin background research | \n",
    "| 4/22 |  12:30 PM |  Do background research on topic | Discuss ideal dataset(s) and ethics; draft project proposal | \n",
    "| 4/22  | 10 PM  | Edit, finalize, and submit proposal | Find Datasets; Discuss Wrangling and possible analytical approaches; Assign group members to lead each specific part   |\n",
    "| 4/27  | 4:30 PM  | Start wrangling independently | Continue wrangling and exploring analytical approaches |\n",
    "| 5/4 | 4:30 PM  | Import & Wrangle Data | Review/Edit wrangling/EDA; Discuss Analysis Plan; Prepare for Project Checkpoint1  |\n",
    "| 5/11  | 4:30 PM  | Finalize wrangling/EDA | Begin analysis |\n",
    "| 5/18  | 4:30 PM  | Work on analysis | Discuss/edit Analysis; Complete project check-in (due 5/20) |\n",
    "| 5/25 | 4:30 PM  | Complete analysis; Draft results/conclusion/discussion (Wasp)| Discuss/edit full project |\n",
    "| 6/1 | 4:30 PM  | Review and edit full project| Discuss editing and reviewing full project |\n",
    "| 6/6 | Before 11:59 PM  | Finish reviewing and editing full project | Turn in Final Project & Group Project Surveys |"
   ]
  }
 ],
 "metadata": {
  "kernelspec": {
   "display_name": "Python 3",
   "language": "python",
   "name": "python3"
  },
  "language_info": {
   "codemirror_mode": {
    "name": "ipython",
    "version": 3
   },
   "file_extension": ".py",
   "mimetype": "text/x-python",
   "name": "python",
   "nbconvert_exporter": "python",
   "pygments_lexer": "ipython3",
   "version": "3.7.9"
  }
 },
 "nbformat": 4,
 "nbformat_minor": 2
}
